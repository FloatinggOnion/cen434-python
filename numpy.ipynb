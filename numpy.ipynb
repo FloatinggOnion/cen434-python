{
 "cells": [
  {
   "cell_type": "code",
   "execution_count": null,
   "metadata": {},
   "outputs": [],
   "source": [
    "import numpy as np"
   ]
  },
  {
   "cell_type": "code",
   "execution_count": null,
   "metadata": {},
   "outputs": [],
   "source": [
    "# Create a 1D NumPy array\n",
    "array_1d = np.array([1, 2, 3, 4, 5])\n",
    "print(\"1D NumPy array:\")\n",
    "print(array_1d)"
   ]
  },
  {
   "cell_type": "code",
   "execution_count": null,
   "metadata": {},
   "outputs": [],
   "source": [
    "# Create a 2D NumPy array\n",
    "array_2d = np.array([[1, 2, 3], [4, 5, 6], [7, 8, 9]])\n",
    "print(\"\\n2D NumPy array:\")\n",
    "print(array_2d)"
   ]
  },
  {
   "cell_type": "code",
   "execution_count": null,
   "metadata": {},
   "outputs": [],
   "source": [
    "# Array shape and dimensions\n",
    "print(\"\\nArray shape:\")\n",
    "print(array_2d.shape)\n",
    "print(\"\\nNumber of dimensions:\")\n",
    "print(array_2d.ndim)"
   ]
  },
  {
   "cell_type": "code",
   "execution_count": null,
   "metadata": {},
   "outputs": [],
   "source": [
    "# Array indexing and slicing\n",
    "print(\"\\nElement at row 1, column 2:\")\n",
    "print(array_2d[0, 1])"
   ]
  },
  {
   "cell_type": "code",
   "execution_count": null,
   "metadata": {},
   "outputs": [],
   "source": [
    "print(\"\\nSlice of the array (row 1):\")\n",
    "print(array_2d[0, :])"
   ]
  },
  {
   "cell_type": "code",
   "execution_count": null,
   "metadata": {},
   "outputs": [],
   "source": [
    "# Basic array operations\n",
    "print(\"\\nSum of elements in the 1D array:\")\n",
    "print(np.sum(array_1d))"
   ]
  },
  {
   "cell_type": "code",
   "execution_count": null,
   "metadata": {},
   "outputs": [],
   "source": [
    "print(\"\\nMean of elements in the 2D array:\")\n",
    "print(np.mean(array_2d))"
   ]
  },
  {
   "cell_type": "code",
   "execution_count": null,
   "metadata": {},
   "outputs": [],
   "source": [
    "# Element-wise operations\n",
    "print(\"\\nElement-wise multiplication of arrays:\")\n",
    "array_mul = array_1d * 2\n",
    "print(array_mul)"
   ]
  },
  {
   "cell_type": "code",
   "execution_count": null,
   "metadata": {},
   "outputs": [],
   "source": [
    "# Broadcasting\n",
    "print(\"\\nBroadcasting - Add 10 to each element in the 1D array:\")\n",
    "array_broadcast = array_1d + 10\n",
    "print(array_broadcast)"
   ]
  },
  {
   "cell_type": "code",
   "execution_count": null,
   "metadata": {},
   "outputs": [],
   "source": [
    "# NumPy functions\n",
    "print(\"\\nRandom 3x3 array:\")\n",
    "random_array = np.random.rand(3, 3)\n",
    "print(random_array)"
   ]
  }
 ],
 "metadata": {
  "kernelspec": {
   "display_name": "Python 3",
   "language": "python",
   "name": "python3"
  },
  "language_info": {
   "name": "python",
   "version": "3.12.1"
  }
 },
 "nbformat": 4,
 "nbformat_minor": 2
}
